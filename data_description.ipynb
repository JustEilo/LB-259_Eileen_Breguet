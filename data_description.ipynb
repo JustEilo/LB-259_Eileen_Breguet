{
 "cells": [
  {
   "cell_type": "code",
   "execution_count": null,
   "metadata": {},
   "outputs": [],
   "source": [
    "#Ich möchte herausfinden wie viele 35 - 44 jährige unter Angstzuständen leiden und welche Tabletten sie benutzt haben.\n",
    "\n",
    "#Ich möchte für die Spalte Condition und Sides Vorhersagen treffen können."
   ]
  }
 ],
 "metadata": {
  "kernelspec": {
   "display_name": "Python 3 (ipykernel)",
   "language": "python",
   "name": "python3"
  },
  "language_info": {
   "codemirror_mode": {
    "name": "ipython",
    "version": 3
   },
   "file_extension": ".py",
   "mimetype": "text/x-python",
   "name": "python",
   "nbconvert_exporter": "python",
   "pygments_lexer": "ipython3",
   "version": "3.10.2"
  }
 },
 "nbformat": 4,
 "nbformat_minor": 2
}
