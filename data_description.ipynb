#Ich möchte herausfinden wie viele 35 - 44 jährige unter Angstzuständen leiden und welche Tabletten sie benutzt haben.

#Ich möchte für die Spalte Effectiveness und EaseofUse Vorhersagen treffen können.
